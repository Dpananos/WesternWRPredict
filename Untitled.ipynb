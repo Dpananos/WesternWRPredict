{
 "cells": [
  {
   "cell_type": "code",
   "execution_count": 63,
   "metadata": {},
   "outputs": [
    {
     "name": "stdout",
     "output_type": "stream",
     "text": [
      "The autoreload extension is already loaded. To reload it, use:\n",
      "  %reload_ext autoreload\n"
     ]
    }
   ],
   "source": [
    "%load_ext autoreload\n",
    "%autoreload 2\n"
   ]
  },
  {
   "cell_type": "code",
   "execution_count": 73,
   "metadata": {},
   "outputs": [],
   "source": [
    "from tools import *\n",
    "import tensorflow as tf\n",
    "from tensorflow import keras\n",
    "from sklearn.preprocessing import MinMaxScaler"
   ]
  },
  {
   "cell_type": "code",
   "execution_count": null,
   "metadata": {},
   "outputs": [],
   "source": []
  },
  {
   "cell_type": "code",
   "execution_count": 65,
   "metadata": {},
   "outputs": [],
   "source": [
    "X,y = fetch_training()\n"
   ]
  },
  {
   "cell_type": "code",
   "execution_count": 84,
   "metadata": {},
   "outputs": [],
   "source": [
    "model = keras.models.Sequential()\n",
    "model.add(keras.layers.Dense(100, activation='relu'))\n",
    "model.add(keras.layers.Dense(250, activation='relu'))\n",
    "model.add(keras.layers.Dense(100, activation='relu'))\n",
    "model.add(keras.layers.Dense(1, activation='relu'))\n",
    "\n",
    "model.compile(loss = 'mean_absolute_error', optimizer = 'adam')\n",
    "\n",
    "\n"
   ]
  },
  {
   "cell_type": "code",
   "execution_count": 85,
   "metadata": {},
   "outputs": [],
   "source": [
    "Xx = MinMaxScaler().fit_transform(FeatureEngineerTransformer().fit_transform(X))\n",
    "y = y\n"
   ]
  },
  {
   "cell_type": "code",
   "execution_count": 86,
   "metadata": {},
   "outputs": [],
   "source": [
    "ix = np.arange(X.shape[0])\n",
    "training_ix = ix[X.created_at.dt.year<=2018]\n",
    "validation_ix = ix[X.created_at.dt.year==2019]"
   ]
  },
  {
   "cell_type": "code",
   "execution_count": null,
   "metadata": {},
   "outputs": [
    {
     "name": "stdout",
     "output_type": "stream",
     "text": [
      "Train on 36813 samples, validate on 6403 samples\n",
      "Epoch 1/100\n",
      "36813/36813 [==============================] - 2s 56us/sample - loss: 22.6767 - val_loss: 20.2588\n",
      "Epoch 2/100\n",
      "36813/36813 [==============================] - 2s 46us/sample - loss: 17.4959 - val_loss: 17.1659\n",
      "Epoch 3/100\n",
      "36813/36813 [==============================] - 2s 46us/sample - loss: 16.1441 - val_loss: 17.1232\n",
      "Epoch 4/100\n",
      "36813/36813 [==============================] - 2s 48us/sample - loss: 15.4366 - val_loss: 18.6134\n",
      "Epoch 5/100\n",
      "36813/36813 [==============================] - 2s 46us/sample - loss: 14.9718 - val_loss: 15.4603\n",
      "Epoch 6/100\n",
      "36813/36813 [==============================] - 2s 46us/sample - loss: 14.5855 - val_loss: 16.5327\n",
      "Epoch 7/100\n",
      "36813/36813 [==============================] - 2s 48us/sample - loss: 14.2616 - val_loss: 14.3557\n",
      "Epoch 8/100\n",
      "36813/36813 [==============================] - 2s 45us/sample - loss: 13.9000 - val_loss: 15.3812\n",
      "Epoch 9/100\n",
      "36813/36813 [==============================] - 2s 49us/sample - loss: 13.6357 - val_loss: 15.4044\n",
      "Epoch 10/100\n",
      "36813/36813 [==============================] - 2s 47us/sample - loss: 13.3423 - val_loss: 15.0521\n",
      "Epoch 11/100\n",
      "36813/36813 [==============================] - 2s 48us/sample - loss: 13.0630 - val_loss: 14.1857\n",
      "Epoch 12/100\n",
      "36813/36813 [==============================] - 2s 48us/sample - loss: 12.8899 - val_loss: 14.2272\n",
      "Epoch 13/100\n",
      "36813/36813 [==============================] - 2s 48us/sample - loss: 12.6884 - val_loss: 15.9149\n",
      "Epoch 14/100\n",
      "36813/36813 [==============================] - 2s 49us/sample - loss: 12.5589 - val_loss: 13.8553\n",
      "Epoch 15/100\n",
      "36813/36813 [==============================] - 2s 47us/sample - loss: 12.4183 - val_loss: 14.5064\n",
      "Epoch 16/100\n",
      "36813/36813 [==============================] - 2s 48us/sample - loss: 12.2959 - val_loss: 14.9589\n",
      "Epoch 17/100\n",
      "36813/36813 [==============================] - 2s 48us/sample - loss: 12.2230 - val_loss: 14.2182\n",
      "Epoch 18/100\n",
      "36813/36813 [==============================] - 2s 48us/sample - loss: 12.1516 - val_loss: 15.1803\n",
      "Epoch 19/100\n",
      "36813/36813 [==============================] - 2s 49us/sample - loss: 12.0231 - val_loss: 14.5641\n",
      "Epoch 20/100\n",
      "36813/36813 [==============================] - 2s 47us/sample - loss: 11.9303 - val_loss: 13.7220\n",
      "Epoch 21/100\n",
      "36813/36813 [==============================] - 2s 47us/sample - loss: 11.8187 - val_loss: 13.0833\n",
      "Epoch 22/100\n",
      "36813/36813 [==============================] - 2s 50us/sample - loss: 11.8108 - val_loss: 13.9304\n",
      "Epoch 23/100\n",
      "36813/36813 [==============================] - 2s 49us/sample - loss: 11.6872 - val_loss: 14.2496\n",
      "Epoch 24/100\n",
      "36813/36813 [==============================] - 2s 54us/sample - loss: 11.5647 - val_loss: 13.6144\n",
      "Epoch 25/100\n",
      "36813/36813 [==============================] - 3s 72us/sample - loss: 11.5154 - val_loss: 13.6979\n",
      "Epoch 26/100\n",
      "36813/36813 [==============================] - 3s 72us/sample - loss: 11.4123 - val_loss: 15.1120\n",
      "Epoch 27/100\n",
      "36813/36813 [==============================] - 2s 48us/sample - loss: 11.3448 - val_loss: 13.2340\n",
      "Epoch 28/100\n",
      "36813/36813 [==============================] - 2s 66us/sample - loss: 11.3245 - val_loss: 13.5099\n",
      "Epoch 29/100\n",
      "18144/36813 [=============>................] - ETA: 1s - loss: 11.3834"
     ]
    }
   ],
   "source": [
    "history = model.fit(Xx[training_ix], y[training_ix], \n",
    "                    validation_data=(Xx[validation_ix], y[validation_ix]),\n",
    "                   epochs = 100)"
   ]
  },
  {
   "cell_type": "code",
   "execution_count": null,
   "metadata": {},
   "outputs": [],
   "source": []
  }
 ],
 "metadata": {
  "kernelspec": {
   "display_name": "Python 3",
   "language": "python",
   "name": "python3"
  },
  "language_info": {
   "codemirror_mode": {
    "name": "ipython",
    "version": 3
   },
   "file_extension": ".py",
   "mimetype": "text/x-python",
   "name": "python",
   "nbconvert_exporter": "python",
   "pygments_lexer": "ipython3",
   "version": "3.7.4"
  }
 },
 "nbformat": 4,
 "nbformat_minor": 2
}
